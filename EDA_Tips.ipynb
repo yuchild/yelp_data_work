{
 "cells": [
  {
   "cell_type": "code",
   "execution_count": 2,
   "metadata": {},
   "outputs": [
    {
     "name": "stderr",
     "output_type": "stream",
     "text": [
      "[nltk_data] Downloading package punkt to /home/david/nltk_data...\n",
      "[nltk_data]   Package punkt is already up-to-date!\n"
     ]
    },
    {
     "data": {
      "text/plain": [
       "True"
      ]
     },
     "execution_count": 2,
     "metadata": {},
     "output_type": "execute_result"
    }
   ],
   "source": [
    "import json\n",
    "import pandas as pd\n",
    "import numpy as np\n",
    "import matplotlib.pyplot as plt\n",
    "%matplotlib inline\n",
    "\n",
    "from collections import Counter\n",
    "from string import punctuation\n",
    "\n",
    "from nltk.corpus import stopwords\n",
    "from nltk import word_tokenize\n",
    "import nltk\n",
    "nltk.download('punkt')"
   ]
  },
  {
   "cell_type": "code",
   "execution_count": 3,
   "metadata": {},
   "outputs": [],
   "source": [
    "file = open('tip.json', 'r')\n",
    "# tip has 1,223,094 entries "
   ]
  },
  {
   "cell_type": "code",
   "execution_count": 4,
   "metadata": {},
   "outputs": [
    {
     "name": "stdout",
     "output_type": "stream",
     "text": [
      "0\n"
     ]
    }
   ],
   "source": [
    "stop = 1223094\n",
    "all_data = []\n",
    "\n",
    "for i, line in enumerate(file):\n",
    "    if i%1223094 == 0:\n",
    "        print(i)\n",
    "    if i == stop:\n",
    "        break\n",
    "    \n",
    "    data = json.loads(line)\n",
    "    \n",
    "    text = data['text']\n",
    "    date = data['date']\n",
    "    compliment = data['compliment_count']\n",
    "    \n",
    "    all_data.append([text\n",
    "                    , date\n",
    "                    , compliment])\n",
    "\n",
    "df = pd.DataFrame(all_data, columns=['text'\n",
    "                                    , 'date'\n",
    "                                    , 'compliment_count'])\n",
    "    \n",
    "file.close()"
   ]
  },
  {
   "cell_type": "code",
   "execution_count": 5,
   "metadata": {},
   "outputs": [
    {
     "data": {
      "text/html": [
       "<div>\n",
       "<style scoped>\n",
       "    .dataframe tbody tr th:only-of-type {\n",
       "        vertical-align: middle;\n",
       "    }\n",
       "\n",
       "    .dataframe tbody tr th {\n",
       "        vertical-align: top;\n",
       "    }\n",
       "\n",
       "    .dataframe thead th {\n",
       "        text-align: right;\n",
       "    }\n",
       "</style>\n",
       "<table border=\"1\" class=\"dataframe\">\n",
       "  <thead>\n",
       "    <tr style=\"text-align: right;\">\n",
       "      <th></th>\n",
       "      <th>text</th>\n",
       "      <th>date</th>\n",
       "      <th>compliment_count</th>\n",
       "    </tr>\n",
       "  </thead>\n",
       "  <tbody>\n",
       "    <tr>\n",
       "      <td>0</td>\n",
       "      <td>Great for watching games, ufc, and whatever el...</td>\n",
       "      <td>2014-03-27 03:51:24</td>\n",
       "      <td>0</td>\n",
       "    </tr>\n",
       "    <tr>\n",
       "      <td>1</td>\n",
       "      <td>Happy Hour 2-4 daily with 1/2 price drinks and...</td>\n",
       "      <td>2013-05-25 06:00:56</td>\n",
       "      <td>0</td>\n",
       "    </tr>\n",
       "    <tr>\n",
       "      <td>2</td>\n",
       "      <td>Good chips and salsa. Loud at times. Good serv...</td>\n",
       "      <td>2011-12-26 01:46:17</td>\n",
       "      <td>0</td>\n",
       "    </tr>\n",
       "    <tr>\n",
       "      <td>3</td>\n",
       "      <td>The setting and decoration here is amazing. Co...</td>\n",
       "      <td>2014-03-23 21:32:49</td>\n",
       "      <td>0</td>\n",
       "    </tr>\n",
       "    <tr>\n",
       "      <td>4</td>\n",
       "      <td>Molly is definately taking a picture with Sant...</td>\n",
       "      <td>2012-10-06 00:19:27</td>\n",
       "      <td>0</td>\n",
       "    </tr>\n",
       "  </tbody>\n",
       "</table>\n",
       "</div>"
      ],
      "text/plain": [
       "                                                text                 date  \\\n",
       "0  Great for watching games, ufc, and whatever el...  2014-03-27 03:51:24   \n",
       "1  Happy Hour 2-4 daily with 1/2 price drinks and...  2013-05-25 06:00:56   \n",
       "2  Good chips and salsa. Loud at times. Good serv...  2011-12-26 01:46:17   \n",
       "3  The setting and decoration here is amazing. Co...  2014-03-23 21:32:49   \n",
       "4  Molly is definately taking a picture with Sant...  2012-10-06 00:19:27   \n",
       "\n",
       "   compliment_count  \n",
       "0                 0  \n",
       "1                 0  \n",
       "2                 0  \n",
       "3                 0  \n",
       "4                 0  "
      ]
     },
     "execution_count": 5,
     "metadata": {},
     "output_type": "execute_result"
    }
   ],
   "source": [
    "df.head()"
   ]
  },
  {
   "cell_type": "code",
   "execution_count": 6,
   "metadata": {},
   "outputs": [
    {
     "data": {
      "text/html": [
       "<div>\n",
       "<style scoped>\n",
       "    .dataframe tbody tr th:only-of-type {\n",
       "        vertical-align: middle;\n",
       "    }\n",
       "\n",
       "    .dataframe tbody tr th {\n",
       "        vertical-align: top;\n",
       "    }\n",
       "\n",
       "    .dataframe thead th {\n",
       "        text-align: right;\n",
       "    }\n",
       "</style>\n",
       "<table border=\"1\" class=\"dataframe\">\n",
       "  <thead>\n",
       "    <tr style=\"text-align: right;\">\n",
       "      <th></th>\n",
       "      <th>text</th>\n",
       "      <th>date</th>\n",
       "      <th>compliment_count</th>\n",
       "    </tr>\n",
       "  </thead>\n",
       "  <tbody>\n",
       "    <tr>\n",
       "      <td>1223089</td>\n",
       "      <td>Very good class, great instructor!!</td>\n",
       "      <td>2018-08-05 20:58:09</td>\n",
       "      <td>0</td>\n",
       "    </tr>\n",
       "    <tr>\n",
       "      <td>1223090</td>\n",
       "      <td>Excellent food</td>\n",
       "      <td>2018-08-15 18:05:22</td>\n",
       "      <td>0</td>\n",
       "    </tr>\n",
       "    <tr>\n",
       "      <td>1223091</td>\n",
       "      <td>Jess is the best bartender!! Go check her out!</td>\n",
       "      <td>2018-10-02 03:34:58</td>\n",
       "      <td>0</td>\n",
       "    </tr>\n",
       "    <tr>\n",
       "      <td>1223092</td>\n",
       "      <td>Excellent food and AMAZING service by Anneliese!!</td>\n",
       "      <td>2018-10-13 16:57:50</td>\n",
       "      <td>0</td>\n",
       "    </tr>\n",
       "    <tr>\n",
       "      <td>1223093</td>\n",
       "      <td>Funnnnn!!!</td>\n",
       "      <td>2018-11-10 03:17:18</td>\n",
       "      <td>0</td>\n",
       "    </tr>\n",
       "  </tbody>\n",
       "</table>\n",
       "</div>"
      ],
      "text/plain": [
       "                                                      text  \\\n",
       "1223089                Very good class, great instructor!!   \n",
       "1223090                                     Excellent food   \n",
       "1223091     Jess is the best bartender!! Go check her out!   \n",
       "1223092  Excellent food and AMAZING service by Anneliese!!   \n",
       "1223093                                         Funnnnn!!!   \n",
       "\n",
       "                        date  compliment_count  \n",
       "1223089  2018-08-05 20:58:09                 0  \n",
       "1223090  2018-08-15 18:05:22                 0  \n",
       "1223091  2018-10-02 03:34:58                 0  \n",
       "1223092  2018-10-13 16:57:50                 0  \n",
       "1223093  2018-11-10 03:17:18                 0  "
      ]
     },
     "execution_count": 6,
     "metadata": {},
     "output_type": "execute_result"
    }
   ],
   "source": [
    "df.tail()"
   ]
  },
  {
   "cell_type": "code",
   "execution_count": 7,
   "metadata": {},
   "outputs": [
    {
     "data": {
      "text/plain": [
       "15"
      ]
     },
     "execution_count": 7,
     "metadata": {},
     "output_type": "execute_result"
    }
   ],
   "source": [
    "df['compliment_count'].max()"
   ]
  },
  {
   "cell_type": "code",
   "execution_count": 8,
   "metadata": {},
   "outputs": [
    {
     "data": {
      "text/plain": [
       "0"
      ]
     },
     "execution_count": 8,
     "metadata": {},
     "output_type": "execute_result"
    }
   ],
   "source": [
    "df['compliment_count'].min()"
   ]
  },
  {
   "cell_type": "code",
   "execution_count": 9,
   "metadata": {},
   "outputs": [
    {
     "data": {
      "text/plain": [
       "0     1205140\n",
       "1       16239\n",
       "2        1402\n",
       "3         227\n",
       "4          51\n",
       "5          18\n",
       "6           8\n",
       "7           4\n",
       "15          1\n",
       "12          1\n",
       "11          1\n",
       "9           1\n",
       "8           1\n",
       "Name: compliment_count, dtype: int64"
      ]
     },
     "execution_count": 9,
     "metadata": {},
     "output_type": "execute_result"
    }
   ],
   "source": [
    "df.compliment_count.value_counts()"
   ]
  },
  {
   "cell_type": "code",
   "execution_count": 10,
   "metadata": {},
   "outputs": [],
   "source": [
    "df['date'] = pd.to_datetime(df['date'])"
   ]
  },
  {
   "cell_type": "code",
   "execution_count": 11,
   "metadata": {},
   "outputs": [
    {
     "data": {
      "text/plain": [
       "2009       951\n",
       "2010     41812\n",
       "2011    146253\n",
       "2012    185312\n",
       "2013    167049\n",
       "2014    163717\n",
       "2015    131697\n",
       "2016    144259\n",
       "2017    148103\n",
       "2018     93941\n",
       "Name: date, dtype: int64"
      ]
     },
     "execution_count": 11,
     "metadata": {},
     "output_type": "execute_result"
    }
   ],
   "source": [
    "df.date.dt.year.value_counts().sort_index()"
   ]
  },
  {
   "cell_type": "code",
   "execution_count": 12,
   "metadata": {},
   "outputs": [
    {
     "data": {
      "text/html": [
       "<div>\n",
       "<style scoped>\n",
       "    .dataframe tbody tr th:only-of-type {\n",
       "        vertical-align: middle;\n",
       "    }\n",
       "\n",
       "    .dataframe tbody tr th {\n",
       "        vertical-align: top;\n",
       "    }\n",
       "\n",
       "    .dataframe thead th {\n",
       "        text-align: right;\n",
       "    }\n",
       "</style>\n",
       "<table border=\"1\" class=\"dataframe\">\n",
       "  <thead>\n",
       "    <tr style=\"text-align: right;\">\n",
       "      <th></th>\n",
       "      <th>text</th>\n",
       "      <th>date</th>\n",
       "      <th>compliment_count</th>\n",
       "      <th>year</th>\n",
       "    </tr>\n",
       "  </thead>\n",
       "  <tbody>\n",
       "    <tr>\n",
       "      <td>0</td>\n",
       "      <td>Great for watching games, ufc, and whatever el...</td>\n",
       "      <td>2014-03-27 03:51:24</td>\n",
       "      <td>0</td>\n",
       "      <td>2014</td>\n",
       "    </tr>\n",
       "    <tr>\n",
       "      <td>1</td>\n",
       "      <td>Happy Hour 2-4 daily with 1/2 price drinks and...</td>\n",
       "      <td>2013-05-25 06:00:56</td>\n",
       "      <td>0</td>\n",
       "      <td>2013</td>\n",
       "    </tr>\n",
       "    <tr>\n",
       "      <td>2</td>\n",
       "      <td>Good chips and salsa. Loud at times. Good serv...</td>\n",
       "      <td>2011-12-26 01:46:17</td>\n",
       "      <td>0</td>\n",
       "      <td>2011</td>\n",
       "    </tr>\n",
       "    <tr>\n",
       "      <td>3</td>\n",
       "      <td>The setting and decoration here is amazing. Co...</td>\n",
       "      <td>2014-03-23 21:32:49</td>\n",
       "      <td>0</td>\n",
       "      <td>2014</td>\n",
       "    </tr>\n",
       "    <tr>\n",
       "      <td>4</td>\n",
       "      <td>Molly is definately taking a picture with Sant...</td>\n",
       "      <td>2012-10-06 00:19:27</td>\n",
       "      <td>0</td>\n",
       "      <td>2012</td>\n",
       "    </tr>\n",
       "  </tbody>\n",
       "</table>\n",
       "</div>"
      ],
      "text/plain": [
       "                                                text                date  \\\n",
       "0  Great for watching games, ufc, and whatever el... 2014-03-27 03:51:24   \n",
       "1  Happy Hour 2-4 daily with 1/2 price drinks and... 2013-05-25 06:00:56   \n",
       "2  Good chips and salsa. Loud at times. Good serv... 2011-12-26 01:46:17   \n",
       "3  The setting and decoration here is amazing. Co... 2014-03-23 21:32:49   \n",
       "4  Molly is definately taking a picture with Sant... 2012-10-06 00:19:27   \n",
       "\n",
       "   compliment_count  year  \n",
       "0                 0  2014  \n",
       "1                 0  2013  \n",
       "2                 0  2011  \n",
       "3                 0  2014  \n",
       "4                 0  2012  "
      ]
     },
     "execution_count": 12,
     "metadata": {},
     "output_type": "execute_result"
    }
   ],
   "source": [
    "df['year'] = df.date.dt.year\n",
    "df.head()"
   ]
  },
  {
   "cell_type": "code",
   "execution_count": 13,
   "metadata": {},
   "outputs": [],
   "source": [
    "year_tips = df.date.dt.year.value_counts().sort_index()"
   ]
  },
  {
   "cell_type": "code",
   "execution_count": 14,
   "metadata": {},
   "outputs": [
    {
     "data": {
      "image/png": "[encoded data removed]",
      "text/plain": [
       "<Figure size 432x288 with 1 Axes>"
      ]
     },
     "metadata": {
      "needs_background": "light"
     },
     "output_type": "display_data"
    }
   ],
   "source": [
    "plt.bar(year_tips.index, year_tips)\n",
    "plt.show()"
   ]
  },
  {
   "cell_type": "code",
   "execution_count": 15,
   "metadata": {},
   "outputs": [],
   "source": [
    "# create compliments by year"
   ]
  },
  {
   "cell_type": "code",
   "execution_count": 16,
   "metadata": {},
   "outputs": [],
   "source": [
    "df_comp_by_year = df.groupby('year')['compliment_count']"
   ]
  },
  {
   "cell_type": "code",
   "execution_count": 17,
   "metadata": {},
   "outputs": [
    {
     "data": {
      "text/plain": [
       "year  compliment_count\n",
       "2009  0                     950\n",
       "      1                       1\n",
       "2010  0                   41741\n",
       "      1                      69\n",
       "      2                       2\n",
       "                          ...  \n",
       "2017  6                       2\n",
       "2018  0                   92909\n",
       "      1                     889\n",
       "      2                     121\n",
       "      3                      22\n",
       "Name: compliment_count, Length: 61, dtype: int64"
      ]
     },
     "execution_count": 17,
     "metadata": {},
     "output_type": "execute_result"
    }
   ],
   "source": [
    "df_comp_by_year.value_counts()"
   ]
  },
  {
   "cell_type": "code",
   "execution_count": 18,
   "metadata": {},
   "outputs": [
    {
     "data": {
      "text/plain": [
       "year\n",
       "2009       1\n",
       "2010      73\n",
       "2011     322\n",
       "2012    3149\n",
       "2013    4482\n",
       "2014    3627\n",
       "2015    2652\n",
       "2016    2575\n",
       "2017    2071\n",
       "2018    1197\n",
       "Name: compliment_count, dtype: int64"
      ]
     },
     "execution_count": 18,
     "metadata": {},
     "output_type": "execute_result"
    }
   ],
   "source": [
    "comp_sum_by_year = df.groupby(['year'])['compliment_count'].sum()\n",
    "comp_sum_by_year"
   ]
  },
  {
   "cell_type": "code",
   "execution_count": 20,
   "metadata": {},
   "outputs": [
    {
     "data": {
      "image/png": "[encoded data removed]",
      "text/plain": [
       "<Figure size 432x288 with 1 Axes>"
      ]
     },
     "metadata": {
      "needs_background": "light"
     },
     "output_type": "display_data"
    }
   ],
   "source": [
    "plt.bar(comp_sum_by_year.index, comp_sum_by_year);"
   ]
  },
  {
   "cell_type": "code",
   "execution_count": 21,
   "metadata": {},
   "outputs": [
    {
     "data": {
      "text/html": [
       "<div>\n",
       "<style scoped>\n",
       "    .dataframe tbody tr th:only-of-type {\n",
       "        vertical-align: middle;\n",
       "    }\n",
       "\n",
       "    .dataframe tbody tr th {\n",
       "        vertical-align: top;\n",
       "    }\n",
       "\n",
       "    .dataframe thead th {\n",
       "        text-align: right;\n",
       "    }\n",
       "</style>\n",
       "<table border=\"1\" class=\"dataframe\">\n",
       "  <thead>\n",
       "    <tr style=\"text-align: right;\">\n",
       "      <th></th>\n",
       "      <th>text</th>\n",
       "      <th>date</th>\n",
       "      <th>compliment_count</th>\n",
       "      <th>year</th>\n",
       "    </tr>\n",
       "  </thead>\n",
       "  <tbody>\n",
       "    <tr>\n",
       "      <td>0</td>\n",
       "      <td>Great for watching games, ufc, and whatever el...</td>\n",
       "      <td>2014-03-27 03:51:24</td>\n",
       "      <td>0</td>\n",
       "      <td>2014</td>\n",
       "    </tr>\n",
       "    <tr>\n",
       "      <td>1</td>\n",
       "      <td>Happy Hour 2-4 daily with 1/2 price drinks and...</td>\n",
       "      <td>2013-05-25 06:00:56</td>\n",
       "      <td>0</td>\n",
       "      <td>2013</td>\n",
       "    </tr>\n",
       "    <tr>\n",
       "      <td>2</td>\n",
       "      <td>Good chips and salsa. Loud at times. Good serv...</td>\n",
       "      <td>2011-12-26 01:46:17</td>\n",
       "      <td>0</td>\n",
       "      <td>2011</td>\n",
       "    </tr>\n",
       "    <tr>\n",
       "      <td>3</td>\n",
       "      <td>The setting and decoration here is amazing. Co...</td>\n",
       "      <td>2014-03-23 21:32:49</td>\n",
       "      <td>0</td>\n",
       "      <td>2014</td>\n",
       "    </tr>\n",
       "    <tr>\n",
       "      <td>4</td>\n",
       "      <td>Molly is definately taking a picture with Sant...</td>\n",
       "      <td>2012-10-06 00:19:27</td>\n",
       "      <td>0</td>\n",
       "      <td>2012</td>\n",
       "    </tr>\n",
       "  </tbody>\n",
       "</table>\n",
       "</div>"
      ],
      "text/plain": [
       "                                                text                date  \\\n",
       "0  Great for watching games, ufc, and whatever el... 2014-03-27 03:51:24   \n",
       "1  Happy Hour 2-4 daily with 1/2 price drinks and... 2013-05-25 06:00:56   \n",
       "2  Good chips and salsa. Loud at times. Good serv... 2011-12-26 01:46:17   \n",
       "3  The setting and decoration here is amazing. Co... 2014-03-23 21:32:49   \n",
       "4  Molly is definately taking a picture with Sant... 2012-10-06 00:19:27   \n",
       "\n",
       "   compliment_count  year  \n",
       "0                 0  2014  \n",
       "1                 0  2013  \n",
       "2                 0  2011  \n",
       "3                 0  2014  \n",
       "4                 0  2012  "
      ]
     },
     "execution_count": 21,
     "metadata": {},
     "output_type": "execute_result"
    }
   ],
   "source": [
    "df.head()"
   ]
  },
  {
   "cell_type": "code",
   "execution_count": 22,
   "metadata": {},
   "outputs": [],
   "source": [
    "df['month'] = df.date.dt.month"
   ]
  },
  {
   "cell_type": "code",
   "execution_count": 23,
   "metadata": {},
   "outputs": [],
   "source": [
    "df['hour'] = df.date.dt.hour"
   ]
  },
  {
   "cell_type": "code",
   "execution_count": 24,
   "metadata": {},
   "outputs": [
    {
     "data": {
      "text/html": [
       "<div>\n",
       "<style scoped>\n",
       "    .dataframe tbody tr th:only-of-type {\n",
       "        vertical-align: middle;\n",
       "    }\n",
       "\n",
       "    .dataframe tbody tr th {\n",
       "        vertical-align: top;\n",
       "    }\n",
       "\n",
       "    .dataframe thead th {\n",
       "        text-align: right;\n",
       "    }\n",
       "</style>\n",
       "<table border=\"1\" class=\"dataframe\">\n",
       "  <thead>\n",
       "    <tr style=\"text-align: right;\">\n",
       "      <th></th>\n",
       "      <th>text</th>\n",
       "      <th>date</th>\n",
       "      <th>compliment_count</th>\n",
       "      <th>year</th>\n",
       "      <th>month</th>\n",
       "      <th>hour</th>\n",
       "    </tr>\n",
       "  </thead>\n",
       "  <tbody>\n",
       "    <tr>\n",
       "      <td>0</td>\n",
       "      <td>Great for watching games, ufc, and whatever el...</td>\n",
       "      <td>2014-03-27 03:51:24</td>\n",
       "      <td>0</td>\n",
       "      <td>2014</td>\n",
       "      <td>3</td>\n",
       "      <td>3</td>\n",
       "    </tr>\n",
       "    <tr>\n",
       "      <td>1</td>\n",
       "      <td>Happy Hour 2-4 daily with 1/2 price drinks and...</td>\n",
       "      <td>2013-05-25 06:00:56</td>\n",
       "      <td>0</td>\n",
       "      <td>2013</td>\n",
       "      <td>5</td>\n",
       "      <td>6</td>\n",
       "    </tr>\n",
       "    <tr>\n",
       "      <td>2</td>\n",
       "      <td>Good chips and salsa. Loud at times. Good serv...</td>\n",
       "      <td>2011-12-26 01:46:17</td>\n",
       "      <td>0</td>\n",
       "      <td>2011</td>\n",
       "      <td>12</td>\n",
       "      <td>1</td>\n",
       "    </tr>\n",
       "    <tr>\n",
       "      <td>3</td>\n",
       "      <td>The setting and decoration here is amazing. Co...</td>\n",
       "      <td>2014-03-23 21:32:49</td>\n",
       "      <td>0</td>\n",
       "      <td>2014</td>\n",
       "      <td>3</td>\n",
       "      <td>21</td>\n",
       "    </tr>\n",
       "    <tr>\n",
       "      <td>4</td>\n",
       "      <td>Molly is definately taking a picture with Sant...</td>\n",
       "      <td>2012-10-06 00:19:27</td>\n",
       "      <td>0</td>\n",
       "      <td>2012</td>\n",
       "      <td>10</td>\n",
       "      <td>0</td>\n",
       "    </tr>\n",
       "  </tbody>\n",
       "</table>\n",
       "</div>"
      ],
      "text/plain": [
       "                                                text                date  \\\n",
       "0  Great for watching games, ufc, and whatever el... 2014-03-27 03:51:24   \n",
       "1  Happy Hour 2-4 daily with 1/2 price drinks and... 2013-05-25 06:00:56   \n",
       "2  Good chips and salsa. Loud at times. Good serv... 2011-12-26 01:46:17   \n",
       "3  The setting and decoration here is amazing. Co... 2014-03-23 21:32:49   \n",
       "4  Molly is definately taking a picture with Sant... 2012-10-06 00:19:27   \n",
       "\n",
       "   compliment_count  year  month  hour  \n",
       "0                 0  2014      3     3  \n",
       "1                 0  2013      5     6  \n",
       "2                 0  2011     12     1  \n",
       "3                 0  2014      3    21  \n",
       "4                 0  2012     10     0  "
      ]
     },
     "execution_count": 24,
     "metadata": {},
     "output_type": "execute_result"
    }
   ],
   "source": [
    "df.head()"
   ]
  },
  {
   "cell_type": "code",
   "execution_count": 25,
   "metadata": {},
   "outputs": [],
   "source": [
    "tips_year_month = df.groupby('year')['month'].value_counts()"
   ]
  },
  {
   "cell_type": "code",
   "execution_count": 26,
   "metadata": {},
   "outputs": [
    {
     "data": {
      "text/plain": [
       "MultiIndex([(2009, 12),\n",
       "            (2009,  9),\n",
       "            (2009,  8),\n",
       "            (2009, 10),\n",
       "            (2009,  7),\n",
       "            (2009, 11),\n",
       "            (2009,  6),\n",
       "            (2009,  5),\n",
       "            (2009,  4),\n",
       "            (2010, 12),\n",
       "            ...\n",
       "            (2018,  4),\n",
       "            (2018,  5),\n",
       "            (2018,  1),\n",
       "            (2018,  7),\n",
       "            (2018,  6),\n",
       "            (2018,  2),\n",
       "            (2018,  8),\n",
       "            (2018,  9),\n",
       "            (2018, 10),\n",
       "            (2018, 11)],\n",
       "           names=['year', 'month'], length=116)"
      ]
     },
     "execution_count": 26,
     "metadata": {},
     "output_type": "execute_result"
    }
   ],
   "source": [
    "tips_year_month.index"
   ]
  },
  {
   "cell_type": "code",
   "execution_count": 27,
   "metadata": {},
   "outputs": [
    {
     "data": {
      "text/plain": [
       "month\n",
       "4      58\n",
       "5      68\n",
       "6      69\n",
       "7     103\n",
       "8     141\n",
       "9     143\n",
       "10    105\n",
       "11     98\n",
       "12    166\n",
       "Name: month, dtype: int64"
      ]
     },
     "execution_count": 27,
     "metadata": {},
     "output_type": "execute_result"
    }
   ],
   "source": [
    "tips_year_month.loc[2009].sort_index()"
   ]
  },
  {
   "cell_type": "code",
   "execution_count": 28,
   "metadata": {},
   "outputs": [
    {
     "name": "stdout",
     "output_type": "stream",
     "text": [
      "2009\n",
      "2010\n",
      "2011\n",
      "2012\n",
      "2013\n",
      "2014\n",
      "2015\n",
      "2016\n",
      "2017\n",
      "2018\n"
     ]
    }
   ],
   "source": [
    "for i in range(2009,2019):\n",
    "    print(i)"
   ]
  },
  {
   "cell_type": "code",
   "execution_count": 29,
   "metadata": {},
   "outputs": [
    {
     "data": {
      "image/png": "[encoded data removed]",
      "text/plain": [
       "<Figure size 432x288 with 1 Axes>"
      ]
     },
     "metadata": {
      "needs_background": "light"
     },
     "output_type": "display_data"
    }
   ],
   "source": [
    "monthly_2009 = tips_year_month.loc[2009].sort_index()\n",
    "plt.bar(monthly_2009.index, monthly_2009);"
   ]
  },
  {
   "cell_type": "code",
   "execution_count": 30,
   "metadata": {},
   "outputs": [
    {
     "data": {
      "image/png": "[encoded data removed]",
      "text/plain": [
       "<Figure size 576x360 with 10 Axes>"
      ]
     },
     "metadata": {
      "needs_background": "light"
     },
     "output_type": "display_data"
    }
   ],
   "source": [
    "fig, axs = plt.subplots(5,2, figsize = (8,5), sharex=True, sharey=False, tight_layout=True)\n",
    "for i, ax in enumerate(axs.flatten()):\n",
    "    monthly = tips_year_month.loc[2009 + i].sort_index()\n",
    "    ax.bar(monthly.index, monthly)\n",
    "    ax.set_xlabel('{}'.format(2009+i))"
   ]
  },
  {
   "cell_type": "code",
   "execution_count": 31,
   "metadata": {},
   "outputs": [],
   "source": [
    "tips_year_hour = df.groupby('year')['hour'].value_counts()"
   ]
  },
  {
   "cell_type": "code",
   "execution_count": 33,
   "metadata": {},
   "outputs": [
    {
     "data": {
      "image/png": "[encoded data removed]",
      "text/plain": [
       "<Figure size 432x288 with 1 Axes>"
      ]
     },
     "metadata": {
      "needs_background": "light"
     },
     "output_type": "display_data"
    }
   ],
   "source": [
    "hourly_2009 = tips_year_hour.loc[2009].sort_index()\n",
    "plt.bar(hourly_2009.index, hourly_2009);"
   ]
  },
  {
   "cell_type": "code",
   "execution_count": 34,
   "metadata": {},
   "outputs": [
    {
     "data": {
      "image/png": "[encoded data removed]",
      "text/plain": [
       "<Figure size 576x360 with 10 Axes>"
      ]
     },
     "metadata": {
      "needs_background": "light"
     },
     "output_type": "display_data"
    }
   ],
   "source": [
    "fig, axs = plt.subplots(5,2, figsize = (8,5), sharex=True, sharey=False, tight_layout=True)\n",
    "for i, ax in enumerate(axs.flatten()):\n",
    "    hourly = tips_year_hour.loc[2009+i].sort_index()\n",
    "    ax.bar(hourly.index, hourly)\n",
    "    ax.set_xlabel('{}'.format(2009+i))"
   ]
  },
  {
   "cell_type": "code",
   "execution_count": 35,
   "metadata": {},
   "outputs": [
    {
     "data": {
      "text/html": [
       "<div>\n",
       "<style scoped>\n",
       "    .dataframe tbody tr th:only-of-type {\n",
       "        vertical-align: middle;\n",
       "    }\n",
       "\n",
       "    .dataframe tbody tr th {\n",
       "        vertical-align: top;\n",
       "    }\n",
       "\n",
       "    .dataframe thead th {\n",
       "        text-align: right;\n",
       "    }\n",
       "</style>\n",
       "<table border=\"1\" class=\"dataframe\">\n",
       "  <thead>\n",
       "    <tr style=\"text-align: right;\">\n",
       "      <th></th>\n",
       "      <th>text</th>\n",
       "      <th>date</th>\n",
       "      <th>compliment_count</th>\n",
       "      <th>year</th>\n",
       "      <th>month</th>\n",
       "      <th>hour</th>\n",
       "    </tr>\n",
       "  </thead>\n",
       "  <tbody>\n",
       "    <tr>\n",
       "      <td>0</td>\n",
       "      <td>Great for watching games, ufc, and whatever el...</td>\n",
       "      <td>2014-03-27 03:51:24</td>\n",
       "      <td>0</td>\n",
       "      <td>2014</td>\n",
       "      <td>3</td>\n",
       "      <td>3</td>\n",
       "    </tr>\n",
       "    <tr>\n",
       "      <td>1</td>\n",
       "      <td>Happy Hour 2-4 daily with 1/2 price drinks and...</td>\n",
       "      <td>2013-05-25 06:00:56</td>\n",
       "      <td>0</td>\n",
       "      <td>2013</td>\n",
       "      <td>5</td>\n",
       "      <td>6</td>\n",
       "    </tr>\n",
       "    <tr>\n",
       "      <td>2</td>\n",
       "      <td>Good chips and salsa. Loud at times. Good serv...</td>\n",
       "      <td>2011-12-26 01:46:17</td>\n",
       "      <td>0</td>\n",
       "      <td>2011</td>\n",
       "      <td>12</td>\n",
       "      <td>1</td>\n",
       "    </tr>\n",
       "    <tr>\n",
       "      <td>3</td>\n",
       "      <td>The setting and decoration here is amazing. Co...</td>\n",
       "      <td>2014-03-23 21:32:49</td>\n",
       "      <td>0</td>\n",
       "      <td>2014</td>\n",
       "      <td>3</td>\n",
       "      <td>21</td>\n",
       "    </tr>\n",
       "    <tr>\n",
       "      <td>4</td>\n",
       "      <td>Molly is definately taking a picture with Sant...</td>\n",
       "      <td>2012-10-06 00:19:27</td>\n",
       "      <td>0</td>\n",
       "      <td>2012</td>\n",
       "      <td>10</td>\n",
       "      <td>0</td>\n",
       "    </tr>\n",
       "  </tbody>\n",
       "</table>\n",
       "</div>"
      ],
      "text/plain": [
       "                                                text                date  \\\n",
       "0  Great for watching games, ufc, and whatever el... 2014-03-27 03:51:24   \n",
       "1  Happy Hour 2-4 daily with 1/2 price drinks and... 2013-05-25 06:00:56   \n",
       "2  Good chips and salsa. Loud at times. Good serv... 2011-12-26 01:46:17   \n",
       "3  The setting and decoration here is amazing. Co... 2014-03-23 21:32:49   \n",
       "4  Molly is definately taking a picture with Sant... 2012-10-06 00:19:27   \n",
       "\n",
       "   compliment_count  year  month  hour  \n",
       "0                 0  2014      3     3  \n",
       "1                 0  2013      5     6  \n",
       "2                 0  2011     12     1  \n",
       "3                 0  2014      3    21  \n",
       "4                 0  2012     10     0  "
      ]
     },
     "execution_count": 35,
     "metadata": {},
     "output_type": "execute_result"
    }
   ],
   "source": [
    "df.head()"
   ]
  },
  {
   "cell_type": "code",
   "execution_count": 36,
   "metadata": {},
   "outputs": [
    {
     "data": {
      "text/plain": [
       "[('.', 924140),\n",
       " ('!', 912415),\n",
       " ('the', 577991),\n",
       " ('and', 408073),\n",
       " (',', 340320),\n",
       " ('a', 279452),\n",
       " ('is', 249471),\n",
       " ('to', 247876),\n",
       " ('for', 199741),\n",
       " ('i', 197607),\n",
       " ('great', 191358),\n",
       " ('in', 153834),\n",
       " ('it', 150636),\n",
       " ('you', 142709),\n",
       " ('food', 141079),\n",
       " ('of', 138739),\n",
       " ('good', 128005),\n",
       " ('this', 116343),\n",
       " ('service', 113153),\n",
       " ('they', 111620)]"
      ]
     },
     "execution_count": 36,
     "metadata": {},
     "output_type": "execute_result"
    }
   ],
   "source": [
    "words = df['text'].str.lower()\n",
    "word_counts = Counter(word_tokenize('\\n'.join(words)))\n",
    "word_counts.most_common(20)"
   ]
  },
  {
   "cell_type": "code",
   "execution_count": 37,
   "metadata": {},
   "outputs": [],
   "source": [
    "top_20_words = word_counts.most_common(20)"
   ]
  },
  {
   "cell_type": "code",
   "execution_count": 38,
   "metadata": {},
   "outputs": [
    {
     "data": {
      "image/png": "[encoded data removed]",
      "text/plain": [
       "<Figure size 864x432 with 1 Axes>"
      ]
     },
     "metadata": {
      "needs_background": "light"
     },
     "output_type": "display_data"
    }
   ],
   "source": [
    "words, counts = zip(*top_20_words)\n",
    "fig, ax = plt.subplots(1,1,figsize=(12,6))\n",
    "ax.bar(words, counts, align='center')\n",
    "ax.set_xlabel('Top Words/Symbols')\n",
    "ax.set_ylabel('Frequency')\n",
    "ax.set_title('Top 20 Words/Symbols on Yelp Tips Dataset');"
   ]
  },
  {
   "cell_type": "code",
   "execution_count": null,
   "metadata": {},
   "outputs": [],
   "source": []
  }
 ],
 "metadata": {
  "kernelspec": {
   "display_name": "Python 3",
   "language": "python",
   "name": "python3"
  },
  "language_info": {
   "codemirror_mode": {
    "name": "ipython",
    "version": 3
   },
   "file_extension": ".py",
   "mimetype": "text/x-python",
   "name": "python",
   "nbconvert_exporter": "python",
   "pygments_lexer": "ipython3",
   "version": "3.7.4"
  }
 },
 "nbformat": 4,
 "nbformat_minor": 2
}
