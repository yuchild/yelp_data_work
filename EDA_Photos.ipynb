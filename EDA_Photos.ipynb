{
 "cells": [
  {
   "cell_type": "code",
   "execution_count": 1,
   "metadata": {},
   "outputs": [],
   "source": [
    "import json\n",
    "import pandas as pd\n",
    "import numpy as np\n",
    "import matplotlib.pyplot as plt\n",
    "%matplotlib inline\n",
    "\n",
    "from collections import Counter\n",
    "from string import punctuation\n",
    "\n",
    "from nltk.corpus import stopwords\n",
    "from nltk import word_tokenize\n",
    "import nltk\n",
    "#nltk.download('punkt')"
   ]
  },
  {
   "cell_type": "code",
   "execution_count": 2,
   "metadata": {},
   "outputs": [],
   "source": [
    "file = open('photo.json', 'r')"
   ]
  },
  {
   "cell_type": "code",
   "execution_count": 3,
   "metadata": {},
   "outputs": [
    {
     "name": "stdout",
     "output_type": "stream",
     "text": [
      "0\n"
     ]
    }
   ],
   "source": [
    "stop = 200000\n",
    "all_data = []\n",
    "\n",
    "for i, line in enumerate(file):\n",
    "    if i%200000 == 0:\n",
    "        print(i)\n",
    "    if i == stop:\n",
    "        break\n",
    "    \n",
    "    data = json.loads(line)\n",
    "    \n",
    "    caption = data['caption']\n",
    "    label = data['label']\n",
    "    \n",
    "    all_data.append([caption, label])\n",
    "    \n",
    "df = pd.DataFrame(all_data, columns = ['caption', 'label'])\n",
    "\n",
    "file.close()"
   ]
  },
  {
   "cell_type": "code",
   "execution_count": 4,
   "metadata": {},
   "outputs": [
    {
     "data": {
      "text/html": [
       "<div>\n",
       "<style scoped>\n",
       "    .dataframe tbody tr th:only-of-type {\n",
       "        vertical-align: middle;\n",
       "    }\n",
       "\n",
       "    .dataframe tbody tr th {\n",
       "        vertical-align: top;\n",
       "    }\n",
       "\n",
       "    .dataframe thead th {\n",
       "        text-align: right;\n",
       "    }\n",
       "</style>\n",
       "<table border=\"1\" class=\"dataframe\">\n",
       "  <thead>\n",
       "    <tr style=\"text-align: right;\">\n",
       "      <th></th>\n",
       "      <th>caption</th>\n",
       "      <th>label</th>\n",
       "    </tr>\n",
       "  </thead>\n",
       "  <tbody>\n",
       "    <tr>\n",
       "      <td>0</td>\n",
       "      <td></td>\n",
       "      <td>inside</td>\n",
       "    </tr>\n",
       "    <tr>\n",
       "      <td>1</td>\n",
       "      <td></td>\n",
       "      <td>inside</td>\n",
       "    </tr>\n",
       "    <tr>\n",
       "      <td>2</td>\n",
       "      <td></td>\n",
       "      <td>food</td>\n",
       "    </tr>\n",
       "    <tr>\n",
       "      <td>3</td>\n",
       "      <td></td>\n",
       "      <td>inside</td>\n",
       "    </tr>\n",
       "    <tr>\n",
       "      <td>4</td>\n",
       "      <td></td>\n",
       "      <td>inside</td>\n",
       "    </tr>\n",
       "    <tr>\n",
       "      <td>5</td>\n",
       "      <td></td>\n",
       "      <td>outside</td>\n",
       "    </tr>\n",
       "    <tr>\n",
       "      <td>6</td>\n",
       "      <td></td>\n",
       "      <td>outside</td>\n",
       "    </tr>\n",
       "    <tr>\n",
       "      <td>7</td>\n",
       "      <td></td>\n",
       "      <td>inside</td>\n",
       "    </tr>\n",
       "    <tr>\n",
       "      <td>8</td>\n",
       "      <td></td>\n",
       "      <td>inside</td>\n",
       "    </tr>\n",
       "    <tr>\n",
       "      <td>9</td>\n",
       "      <td></td>\n",
       "      <td>inside</td>\n",
       "    </tr>\n",
       "    <tr>\n",
       "      <td>10</td>\n",
       "      <td></td>\n",
       "      <td>food</td>\n",
       "    </tr>\n",
       "    <tr>\n",
       "      <td>11</td>\n",
       "      <td></td>\n",
       "      <td>food</td>\n",
       "    </tr>\n",
       "    <tr>\n",
       "      <td>12</td>\n",
       "      <td></td>\n",
       "      <td>inside</td>\n",
       "    </tr>\n",
       "    <tr>\n",
       "      <td>13</td>\n",
       "      <td></td>\n",
       "      <td>inside</td>\n",
       "    </tr>\n",
       "    <tr>\n",
       "      <td>14</td>\n",
       "      <td></td>\n",
       "      <td>food</td>\n",
       "    </tr>\n",
       "    <tr>\n",
       "      <td>15</td>\n",
       "      <td></td>\n",
       "      <td>outside</td>\n",
       "    </tr>\n",
       "    <tr>\n",
       "      <td>16</td>\n",
       "      <td>Outside</td>\n",
       "      <td>outside</td>\n",
       "    </tr>\n",
       "    <tr>\n",
       "      <td>17</td>\n",
       "      <td></td>\n",
       "      <td>food</td>\n",
       "    </tr>\n",
       "    <tr>\n",
       "      <td>18</td>\n",
       "      <td>\"last neighborhood bar in Vegas\"</td>\n",
       "      <td>outside</td>\n",
       "    </tr>\n",
       "    <tr>\n",
       "      <td>19</td>\n",
       "      <td>now this is a sandwich</td>\n",
       "      <td>food</td>\n",
       "    </tr>\n",
       "  </tbody>\n",
       "</table>\n",
       "</div>"
      ],
      "text/plain": [
       "                             caption    label\n",
       "0                                      inside\n",
       "1                                      inside\n",
       "2                                        food\n",
       "3                                      inside\n",
       "4                                      inside\n",
       "5                                     outside\n",
       "6                                     outside\n",
       "7                                      inside\n",
       "8                                      inside\n",
       "9                                      inside\n",
       "10                                       food\n",
       "11                                       food\n",
       "12                                     inside\n",
       "13                                     inside\n",
       "14                                       food\n",
       "15                                    outside\n",
       "16                           Outside  outside\n",
       "17                                       food\n",
       "18  \"last neighborhood bar in Vegas\"  outside\n",
       "19            now this is a sandwich     food"
      ]
     },
     "execution_count": 4,
     "metadata": {},
     "output_type": "execute_result"
    }
   ],
   "source": [
    "df.head(20)"
   ]
  },
  {
   "cell_type": "code",
   "execution_count": 5,
   "metadata": {},
   "outputs": [],
   "source": [
    "labels = df['label'].value_counts()"
   ]
  },
  {
   "cell_type": "code",
   "execution_count": 6,
   "metadata": {},
   "outputs": [
    {
     "data": {
      "text/plain": [
       "food       114874\n",
       "inside      52448\n",
       "drink       18121\n",
       "outside     11534\n",
       "menu         3023\n",
       "Name: label, dtype: int64"
      ]
     },
     "execution_count": 6,
     "metadata": {},
     "output_type": "execute_result"
    }
   ],
   "source": [
    "labels"
   ]
  },
  {
   "cell_type": "code",
   "execution_count": 9,
   "metadata": {},
   "outputs": [
    {
     "data": {
      "text/plain": [
       "<BarContainer object of 5 artists>"
      ]
     },
     "execution_count": 9,
     "metadata": {},
     "output_type": "execute_result"
    },
    {
     "data": {
      "image/png": "[encoded data removed]",
      "text/plain": [
       "<Figure size 432x288 with 1 Axes>"
      ]
     },
     "metadata": {
      "needs_background": "light"
     },
     "output_type": "display_data"
    }
   ],
   "source": [
    "plt.bar(labels.index, labels)"
   ]
  },
  {
   "cell_type": "code",
   "execution_count": 10,
   "metadata": {},
   "outputs": [
    {
     "data": {
      "text/plain": [
       "[(',', 20559),\n",
       " ('.', 19036),\n",
       " ('!', 17456),\n",
       " ('the', 14068),\n",
       " ('and', 13340),\n",
       " ('with', 8926),\n",
       " ('chicken', 6623),\n",
       " ('of', 6171),\n",
       " (\"'s\", 5767),\n",
       " ('a', 5743),\n",
       " (')', 4795),\n",
       " ('&', 4615),\n",
       " ('(', 4149),\n",
       " (':', 3801),\n",
       " ('-', 3755),\n",
       " ('in', 3501),\n",
       " ('on', 3229),\n",
       " ('for', 3164),\n",
       " ('to', 3043),\n",
       " ('bar', 2851),\n",
       " ('mcdonald', 2844),\n",
       " ('$', 2799),\n",
       " ('menu', 2756),\n",
       " ('salad', 2648),\n",
       " ('?', 2565),\n",
       " ('is', 2551),\n",
       " ('cheese', 2501),\n",
       " ('...', 2246),\n",
       " ('at', 2239),\n",
       " ('it', 2021),\n",
       " ('fried', 1949),\n",
       " ('beef', 1856),\n",
       " ('good', 1836),\n",
       " ('shrimp', 1816),\n",
       " ('pork', 1804),\n",
       " ('from', 1789),\n",
       " ('this', 1763),\n",
       " ('i', 1752),\n",
       " ('sauce', 1711),\n",
       " ('our', 1698),\n",
       " ('great', 1658),\n",
       " ('sandwich', 1652),\n",
       " ('roll', 1608),\n",
       " ('was', 1579),\n",
       " ('rice', 1573),\n",
       " ('you', 1547),\n",
       " ('all', 1517),\n",
       " ('breakfast', 1507),\n",
       " ('inside', 1497),\n",
       " ('meal', 1450)]"
      ]
     },
     "execution_count": 10,
     "metadata": {},
     "output_type": "execute_result"
    }
   ],
   "source": [
    "captions = df['caption'].str.lower()\n",
    "captions_counts = Counter(word_tokenize('\\n'.join(captions)))\n",
    "captions_counts.most_common(50)"
   ]
  },
  {
   "cell_type": "code",
   "execution_count": 20,
   "metadata": {},
   "outputs": [],
   "source": [
    "top_50_caption_words = captions_counts.most_common(50)"
   ]
  },
  {
   "cell_type": "code",
   "execution_count": 27,
   "metadata": {},
   "outputs": [
    {
     "data": {
      "image/png": "[encoded data removed]",
      "text/plain": [
       "<Figure size 1008x576 with 1 Axes>"
      ]
     },
     "metadata": {
      "needs_background": "light"
     },
     "output_type": "display_data"
    }
   ],
   "source": [
    "words, counts = zip(*top_50_caption_words)\n",
    "fig, ax = plt.subplots(1,1,figsize = (14, 8))\n",
    "ax.bar(words, counts, align='center')\n",
    "ax.set_xlabel('Words/Symbols')\n",
    "ax.set_ylabel('Frequency')\n",
    "ax.set_title(\"Top 50 Words/Symbols on Yelp Photo Dataset\")\n",
    "ax.set_xticklabels(words, rotation=90);"
   ]
  },
  {
   "cell_type": "code",
   "execution_count": null,
   "metadata": {},
   "outputs": [],
   "source": []
  }
 ],
 "metadata": {
  "kernelspec": {
   "display_name": "Python 3",
   "language": "python",
   "name": "python3"
  },
  "language_info": {
   "codemirror_mode": {
    "name": "ipython",
    "version": 3
   },
   "file_extension": ".py",
   "mimetype": "text/x-python",
   "name": "python",
   "nbconvert_exporter": "python",
   "pygments_lexer": "ipython3",
   "version": "3.7.4"
  }
 },
 "nbformat": 4,
 "nbformat_minor": 2
}
